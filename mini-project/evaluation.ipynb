{
 "cells": [
  {
   "cell_type": "code",
   "execution_count": 1,
   "metadata": {},
   "outputs": [
    {
     "name": "stderr",
     "output_type": "stream",
     "text": [
      "Using TensorFlow backend.\n"
     ]
    }
   ],
   "source": [
    "from keras import backend as K\n",
    "from keras.datasets import mnist\n",
    "import keras\n",
    "\n",
    "from sklearn.metrics import accuracy_score\n",
    "from scipy.stats import norm\n",
    "from matplotlib import pyplot as plt\n",
    "import numpy as np\n",
    "\n",
    "from math import sqrt\n",
    "import random\n",
    "\n",
    "from gaussiannets import ProbabilisticCNN\n",
    "from datasets import nmnist\n",
    "\n",
    "def print_digit(digit_data, digit, cnn_class_prob, gpc_class_prob_distr, gcnn_class_prob_distr):\n",
    "    gpc_class_prob_median, gpc_class_prob_std = gpc_class_prob_distr\n",
    "    gcnn_class_prob_median, gcnn_class_prob_std = gcnn_class_prob_distr\n",
    "    two_d = (np.reshape(digit_data, (28, 28)) * 255).astype(np.uint8)\n",
    "    full_figure = plt.figure(figsize=(15, 10))\n",
    "    full_figure.add_subplot(341)\n",
    "    plt.title('Digit %d' % digit)\n",
    "    plt.imshow(two_d, cmap='gray')\n",
    "    full_figure.add_subplot(342)\n",
    "    plt.title('CNN')\n",
    "    plt.bar(range(10), cnn_class_prob)\n",
    "    plt.xticks(range(10), range(10))\n",
    "    full_figure.add_subplot(343)\n",
    "    plt.title('SPGC')\n",
    "    plt.bar(range(10), gpc_class_prob_median, yerr=gpc_class_prob_std)\n",
    "    plt.xticks(range(10), range(10))\n",
    "    full_figure.add_subplot(344)\n",
    "    plt.title('GaussianCNN')\n",
    "    plt.bar(range(10), gcnn_class_prob_median, yerr=gcnn_class_prob_std)\n",
    "    plt.xticks(range(10), range(10))\n",
    "    plt.show()\n",
    "\n",
    "def uncertain_predict(class_probs, class_std=None, prob=0.95):\n",
    "    if class_std is None:\n",
    "        return np.argmax(class_probs, axis=1)\n",
    "    else:\n",
    "        candidates = []\n",
    "        for prob_vector, std_vector in zip(class_probs, class_std):\n",
    "            candidate = np.argmax(prob_vector)\n",
    "            for digit in range(len(prob_vector)):\n",
    "                if digit != candidate and \\\n",
    "                   norm.sf(0, prob_vector[candidate] - prob_vector[digit], \n",
    "                              sqrt(std_vector[candidate]**2 + std_vector[digit]**2)) < prob:\n",
    "                        candidate = -1\n",
    "                        break\n",
    "            candidates.append(candidate)\n",
    "        return np.array(candidates)\n",
    "    \n",
    "    \n",
    "def nasu(y_true, y_predicted, penalty=1):\n",
    "    score = 0\n",
    "    for label_true, label_predicted in zip(y_true, y_predicted):\n",
    "        if label_predicted == -1:\n",
    "            pass\n",
    "        elif label_predicted == label_true:\n",
    "            score += 1\n",
    "        else:\n",
    "            score -= penalty\n",
    "    return score/len(y_true)\n",
    "\n",
    "    \n",
    "save_path = None             #Path to serialize the model. If none it will not serialize it\n",
    "load_path = \"weights.pkl\"   #Path to load a serialized model. If none it will retrain from scratch"
   ]
  },
  {
   "cell_type": "markdown",
   "metadata": {},
   "source": [
    "## MNIST "
   ]
  },
  {
   "cell_type": "markdown",
   "metadata": {},
   "source": [
    "We run the Gaussian CNN with the standard MNIST dataset to check how it fares with "
   ]
  },
  {
   "cell_type": "code",
   "execution_count": 2,
   "metadata": {},
   "outputs": [
    {
     "name": "stdout",
     "output_type": "stream",
     "text": [
      "(60000, 784)\n",
      "x_train shape: (60000, 28, 28, 1)\n",
      "60000 train samples\n",
      "10000 test samples\n"
     ]
    }
   ],
   "source": [
    "# the data, shuffled and split between train and test sets\n",
    "(x_train, y_train), (x_test, y_test) = mnist.load_data()\n",
    "# input image dimensions\n",
    "img_rows, img_cols = 28, 28\n",
    "\n",
    "if K.image_data_format() == 'channels_first':\n",
    "    x_train = x_train.reshape(x_train.shape[0], 1, img_rows, img_cols)\n",
    "    x_test = x_test.reshape(x_test.shape[0], 1, img_rows, img_cols)\n",
    "    input_shape = (1, img_rows, img_cols)\n",
    "else:\n",
    "    x_train = x_train.reshape(x_train.shape[0], img_rows, img_cols, 1)\n",
    "    x_test = x_test.reshape(x_test.shape[0], img_rows, img_cols, 1)\n",
    "    input_shape = (img_rows, img_cols, 1)\n",
    "\n",
    "x_train = x_train.astype('float32')\n",
    "x_test = x_test.astype('float32')\n",
    "x_train /= 255\n",
    "x_test /= 255\n",
    "\n",
    "print(x_train.reshape(x_train.shape[0], -1).shape)\n",
    "print('x_train shape:', x_train.shape)\n",
    "print(x_train.shape[0], 'train samples')\n",
    "print(x_test.shape[0], 'test samples')\n",
    "\n",
    "y_train_m = keras.utils.to_categorical(y_train, 10)\n",
    "\n",
    "model = ProbabilisticCNN(input_shape, 10, epochs=9, baseline=True)\n",
    "if load_path is not None:\n",
    "    model.load(load_path, x_train, y_train_m)\n",
    "else:\n",
    "    model.fit(x_train, y_train_m)\n",
    "\n",
    "if save_path is not None:\n",
    "    model.save(save_path)"
   ]
  },
  {
   "cell_type": "code",
   "execution_count": 2,
   "metadata": {},
   "outputs": [
    {
     "ename": "NameError",
     "evalue": "name 'model' is not defined",
     "output_type": "error",
     "traceback": [
      "\u001b[0;31m---------------------------------------------------------------------------\u001b[0m",
      "\u001b[0;31mNameError\u001b[0m                                 Traceback (most recent call last)",
      "\u001b[0;32m<ipython-input-2-b5498bfc3df1>\u001b[0m in \u001b[0;36m<module>\u001b[0;34m()\u001b[0m\n\u001b[0;32m----> 1\u001b[0;31m \u001b[0mgcnn_class_prob_dist\u001b[0m \u001b[0;34m=\u001b[0m \u001b[0mnp\u001b[0m\u001b[0;34m.\u001b[0m\u001b[0marray\u001b[0m\u001b[0;34m(\u001b[0m\u001b[0mmodel\u001b[0m\u001b[0;34m.\u001b[0m\u001b[0mpredict\u001b[0m\u001b[0;34m(\u001b[0m\u001b[0mx_test\u001b[0m\u001b[0;34m)\u001b[0m\u001b[0;34m)\u001b[0m\u001b[0;34m\u001b[0m\u001b[0m\n\u001b[0m\u001b[1;32m      2\u001b[0m \u001b[0mcnn_class_prob_raw\u001b[0m\u001b[0;34m,\u001b[0m \u001b[0mgpc_class_prob_dist\u001b[0m \u001b[0;34m=\u001b[0m \u001b[0mmodel\u001b[0m\u001b[0;34m.\u001b[0m\u001b[0mpredict\u001b[0m\u001b[0;34m(\u001b[0m\u001b[0mx_test\u001b[0m\u001b[0;34m,\u001b[0m \u001b[0mraw_predict\u001b[0m\u001b[0;34m=\u001b[0m\u001b[0;32mTrue\u001b[0m\u001b[0;34m)\u001b[0m\u001b[0;34m\u001b[0m\u001b[0m\n\u001b[1;32m      3\u001b[0m \u001b[0mgpc_class_prob_dist\u001b[0m \u001b[0;34m=\u001b[0m \u001b[0mnp\u001b[0m\u001b[0;34m.\u001b[0m\u001b[0marray\u001b[0m\u001b[0;34m(\u001b[0m\u001b[0mgpc_class_prob_dist\u001b[0m\u001b[0;34m)\u001b[0m\u001b[0;34m\u001b[0m\u001b[0m\n\u001b[1;32m      4\u001b[0m \u001b[0;34m\u001b[0m\u001b[0m\n\u001b[1;32m      5\u001b[0m \u001b[0my_predict_all_gcnn\u001b[0m \u001b[0;34m=\u001b[0m \u001b[0muncertain_predict\u001b[0m\u001b[0;34m(\u001b[0m\u001b[0mgcnn_class_prob_dist\u001b[0m\u001b[0;34m[\u001b[0m\u001b[0;36m0\u001b[0m\u001b[0;34m]\u001b[0m\u001b[0;34m)\u001b[0m\u001b[0;34m\u001b[0m\u001b[0m\n",
      "\u001b[0;31mNameError\u001b[0m: name 'model' is not defined"
     ]
    }
   ],
   "source": [
    "gcnn_class_prob_dist = np.array(model.predict(x_test))\n",
    "cnn_class_prob_raw, gpc_class_prob_dist = model.predict(x_test, raw_predict=True)\n",
    "gpc_class_prob_dist = np.array(gpc_class_prob_dist)\n",
    "\n",
    "y_predict_all_gcnn = uncertain_predict(gcnn_class_prob_dist[0])\n",
    "y_predict_unc_gcnn = uncertain_predict(gcnn_class_prob_dist[0], gcnn_class_prob_dist[1], 1)#\n",
    "y_predict_all_gpc = uncertain_predict(gpc_class_prob_dist[0])\n",
    "y_predict_unc_gpc = uncertain_predict(gpc_class_prob_dist[0], gpc_class_prob_dist[1], 1)\n",
    "y_predict_raw = uncertain_predict(cnn_class_prob_raw)\n",
    "\n",
    "acc_raw = accuracy_score(y_test, y_predict_raw)\n",
    "acc_gaussian = accuracy_score(y_test, y_predict_all_gcnn)\n",
    "acc_gpc = accuracy_score(y_test, y_predict_all_gpc)\n",
    "print('CNN accuracy: %4f, GaussianCNN accuracy: %4f, GPC accuracy: %4f' % (acc_raw, acc_gaussian, acc_gpc))\n",
    "\n",
    "score_raw = nasu(y_test, y_predict_raw, 10)\n",
    "score_gaussian = nasu(y_test, y_predict_unc_gcnn, 10)\n",
    "score_gpc = nasu(y_test, y_predict_unc_gpc, 10)\n",
    "for X in [1, 3, 10]:\n",
    "    score_raw = nasu(y_test, y_predict_raw, X)\n",
    "    score_gaussian = nasu(y_test, y_predict_unc_gcnn, X)\n",
    "    score_gpc = nasu(y_test, y_predict_unc_gpc, X)\n",
    "    print('CNN score: %4f, GuassianCNN score: %4f, GPC score: %4f' % (score_raw, score_gaussian, score_gpc))"
   ]
  },
  {
   "cell_type": "markdown",
   "metadata": {},
   "source": [
    "The difference between the raw CNN and the gaussian CNN is particularly noticable in the more \"unclear\" images"
   ]
  },
  {
   "cell_type": "code",
   "execution_count": 69,
   "metadata": {
    "scrolled": false
   },
   "outputs": [
    {
     "data": {
      "image/png": "[encoded data removed]",
      "text/plain": [
       "<matplotlib.figure.Figure at 0x7f7b3cbcc668>"
      ]
     },
     "metadata": {},
     "output_type": "display_data"
    }
   ],
   "source": [
    "worst_results = np.argsort(np.max(cnn_class_prob_raw, axis=1))[:50]\n",
    "random_digit = random.choice(worst_results)\n",
    "print_digit(x_test[random_digit], y_test[random_digit],\n",
    "            cnn_class_prob_raw[random_digit],\n",
    "            gpc_class_prob_dist[:, random_digit],\n",
    "            gcnn_class_prob_dist[:, random_digit])"
   ]
  },
  {
   "cell_type": "markdown",
   "metadata": {},
   "source": [
    "## N-MNIST"
   ]
  },
  {
   "cell_type": "markdown",
   "metadata": {},
   "source": [
    "The Neuromorphic-MNIST (N-MNIST) dataset is a spiking version of the original frame-based MNIST dataset. We will now see what role uncernanty plays when the test set is very noisy compared to the training set"
   ]
  },
  {
   "cell_type": "code",
   "execution_count": 4,
   "metadata": {},
   "outputs": [
    {
     "name": "stdout",
     "output_type": "stream",
     "text": [
      "30000 test samples\n",
      "CNN accuracy: 0.899000, GaussianCNN accuracy: 0.889100, GPC accuracy: 0.706667\n",
      "CNN score: 0.798000, GuassianCNN score: 0.709567, GPC score: 0.465000\n",
      "CNN score: 0.596000, GuassianCNN score: 0.673833, GPC score: 0.381333\n",
      "CNN score: -0.111000, GuassianCNN score: 0.548767, GPC score: 0.088500\n"
     ]
    }
   ],
   "source": [
    "# the data, shuffled and split between train and test sets\n",
    "_, (x_test, y_test_m) = nmnist.load_data()\n",
    "y_test = np.argmax(y_test_m, axis=1)\n",
    "\n",
    "if K.image_data_format() == 'channels_first':\n",
    "    x_test = x_test.reshape(x_test.shape[0], 1, img_rows, img_cols)\n",
    "else:\n",
    "    x_test = x_test.reshape(x_test.shape[0], img_rows, img_cols, 1)\n",
    "    \n",
    "x_test = x_test.astype('float32')\n",
    "x_test /= 255\n",
    "\n",
    "print(x_test.shape[0], 'test samples')\n",
    "\n",
    "gcnn_class_prob_dist = np.array(model.predict(x_test))\n",
    "cnn_class_prob_raw, gpc_class_prob_dist = model.predict(x_test, raw_predict=True)\n",
    "gpc_class_prob_dist = np.array(gpc_class_prob_dist)\n",
    "\n",
    "y_predict_all_gcnn = uncertain_predict(gcnn_class_prob_dist[0])\n",
    "y_predict_unc_gcnn = uncertain_predict(gcnn_class_prob_dist[0], gcnn_class_prob_dist[1], 1)#\n",
    "y_predict_all_gpc = uncertain_predict(gpc_class_prob_dist[0])\n",
    "y_predict_unc_gpc = uncertain_predict(gpc_class_prob_dist[0], gpc_class_prob_dist[1], 1)\n",
    "y_predict_raw = uncertain_predict(cnn_class_prob_raw)\n",
    "\n",
    "acc_raw = accuracy_score(y_test, y_predict_raw)\n",
    "acc_gaussian = accuracy_score(y_test, y_predict_all_gcnn)\n",
    "acc_gpc = accuracy_score(y_test, y_predict_all_gpc)\n",
    "print('CNN accuracy: %4f, GaussianCNN accuracy: %4f, GPC accuracy: %4f' % (acc_raw, acc_gaussian, acc_gpc))\n",
    "\n",
    "score_raw = nasu(y_test, y_predict_raw, 10)\n",
    "score_gaussian = nasu(y_test, y_predict_unc_gcnn, 10)\n",
    "score_gpc = nasu(y_test, y_predict_unc_gpc, 10)\n",
    "for X in [1, 3, 10]:\n",
    "    score_raw = nasu(y_test, y_predict_raw, X)\n",
    "    score_gaussian = nasu(y_test, y_predict_unc_gcnn, X)\n",
    "    score_gpc = nasu(y_test, y_predict_unc_gpc, X)\n",
    "    print('CNN score: %4f, GuassianCNN score: %4f, GPC score: %4f' % (score_raw, score_gaussian, score_gpc))"
   ]
  },
  {
   "cell_type": "code",
   "execution_count": 70,
   "metadata": {},
   "outputs": [
    {
     "data": {
      "image/png": "[encoded data removed]",
      "text/plain": [
       "<matplotlib.figure.Figure at 0x7f7b3d06d208>"
      ]
     },
     "metadata": {},
     "output_type": "display_data"
    }
   ],
   "source": [
    "worst_results = np.argsort(np.max(cnn_class_prob_raw, axis=1))[:50]\n",
    "random_digit = random.choice(worst_results)\n",
    "print_digit(x_test[random_digit], y_test[random_digit],\n",
    "            cnn_class_prob_raw[random_digit],\n",
    "            gpc_class_prob_dist[:, random_digit],\n",
    "            gcnn_class_prob_dist[:, random_digit])"
   ]
  },
  {
   "cell_type": "code",
   "execution_count": null,
   "metadata": {
    "collapsed": true
   },
   "outputs": [],
   "source": []
  }
 ],
 "metadata": {
  "kernelspec": {
   "display_name": "Python 3",
   "language": "python",
   "name": "python3"
  },
  "language_info": {
   "codemirror_mode": {
    "name": "ipython",
    "version": 3
   },
   "file_extension": ".py",
   "mimetype": "text/x-python",
   "name": "python",
   "nbconvert_exporter": "python",
   "pygments_lexer": "ipython3",
   "version": "3.6.4"
  }
 },
 "nbformat": 4,
 "nbformat_minor": 2
}
