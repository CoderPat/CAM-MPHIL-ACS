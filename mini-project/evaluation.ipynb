{
 "cells": [
  {
   "cell_type": "code",
   "execution_count": 1,
   "metadata": {},
   "outputs": [
    {
     "name": "stderr",
     "output_type": "stream",
     "text": [
      "Using TensorFlow backend.\n"
     ]
    }
   ],
   "source": [
    "from keras.datasets import mnist\n",
    "from datasets import nmnist\n",
    "from sklearn.metrics import accuracy_score\n",
    "from keras import backend as K\n",
    "import keras\n",
    "\n",
    "import numpy as np\n",
    "from matplotlib import pyplot as plt\n",
    "import random\n",
    "\n",
    "from gaussiannets import ProbabilisticCNN\n",
    "\n",
    "def print_digit(digit_data, raw_class_prob, class_prob_distr):\n",
    "    class_prob_median, class_prob_std = class_prob_distr\n",
    "    two_d = (np.reshape(digit_data, (28, 28)) * 255).astype(np.uint8)\n",
    "    full_figure = plt.figure(figsize=(15, 10))\n",
    "    full_figure.add_subplot(231)\n",
    "    plt.imshow(two_d, cmap='gray')\n",
    "    full_figure.add_subplot(232)\n",
    "    plt.bar(range(10), raw_class_prob)\n",
    "    plt.xticks(range(10), range(10))\n",
    "    full_figure.add_subplot(233)\n",
    "    plt.bar(range(10), class_prob_median, yerr=class_prob_std)\n",
    "    plt.xticks(range(10), range(10))\n",
    "    plt.show() \n",
    "\n",
    "save_path = None                 #Path to serialize the model. If none it will not serialize it\n",
    "load_path = \"real_test.pkl\"      #Path to load a serialized model. If none it will retrain from scratch"
   ]
  },
  {
   "cell_type": "markdown",
   "metadata": {},
   "source": [
    "## MNIST "
   ]
  },
  {
   "cell_type": "markdown",
   "metadata": {},
   "source": [
    "We run the Gaussian CNN with the standard MNIST dataset to check how it fares with "
   ]
  },
  {
   "cell_type": "code",
   "execution_count": 2,
   "metadata": {},
   "outputs": [
    {
     "name": "stdout",
     "output_type": "stream",
     "text": [
      "x_train shape: (60000, 28, 28, 1)\n",
      "60000 train samples\n",
      "10000 test samples\n",
      "WARNING:tensorflow:From /usr/lib/python3.6/site-packages/keras/backend/tensorflow_backend.py:1264: calling reduce_prod (from tensorflow.python.ops.math_ops) with keep_dims is deprecated and will be removed in a future version.\n",
      "Instructions for updating:\n",
      "keep_dims is deprecated, use keepdims instead\n"
     ]
    }
   ],
   "source": [
    "# input image dimensions\n",
    "img_rows, img_cols = 28, 28\n",
    "\n",
    "# the data, shuffled and split between train and test sets\n",
    "(x_train, y_train), (x_test, y_test) = mnist.load_data()\n",
    "\n",
    "if K.image_data_format() == 'channels_first':\n",
    "    x_train = x_train.reshape(x_train.shape[0], 1, img_rows, img_cols)\n",
    "    x_test = x_test.reshape(x_test.shape[0], 1, img_rows, img_cols)\n",
    "    input_shape = (1, img_rows, img_cols)\n",
    "else:\n",
    "    x_train = x_train.reshape(x_train.shape[0], img_rows, img_cols, 1)\n",
    "    x_test = x_test.reshape(x_test.shape[0], img_rows, img_cols, 1)\n",
    "    input_shape = (img_rows, img_cols, 1)\n",
    "\n",
    "x_train = x_train.astype('float32')\n",
    "x_test = x_test.astype('float32')\n",
    "x_train /= 255\n",
    "x_test /= 255\n",
    "\n",
    "print('x_train shape:', x_train.shape)\n",
    "print(x_train.shape[0], 'train samples')\n",
    "print(x_test.shape[0], 'test samples')\n",
    "\n",
    "y_train_m = keras.utils.to_categorical(y_train, 10)\n",
    "\n",
    "model = ProbabilisticCNN(input_shape, 10, epochs=9)\n",
    "if load_path is not None:\n",
    "    model.load(load_path, x_train, y_train_m)\n",
    "else:\n",
    "    model.fit(x_train, y_train_m)\n",
    "\n",
    "if save_path is not None:\n",
    "    model.save(save_path)"
   ]
  },
  {
   "cell_type": "code",
   "execution_count": 3,
   "metadata": {},
   "outputs": [
    {
     "name": "stdout",
     "output_type": "stream",
     "text": [
      "CNN accuracy 0.9917\n",
      "ProbabilisticCNN accuracy 0.9922\n"
     ]
    }
   ],
   "source": [
    "class_prob_dist = np.array(model.predict(x_test))\n",
    "class_prob_raw = model.predict(x_test, raw_predict=True)\n",
    "\n",
    "y_predict_unc = np.argmax(class_prob_dist[0], axis=1)\n",
    "y_predict_raw = np.argmax(class_prob_raw, axis=1)\n",
    "\n",
    "score_raw = accuracy_score(y_test, y_predict_raw)\n",
    "score_gaussian = accuracy_score(y_test, y_predict_unc)\n",
    "\n",
    "print('CNN accuracy', score_raw)\n",
    "print('ProbabilisticCNN accuracy', score_gaussian)"
   ]
  },
  {
   "cell_type": "markdown",
   "metadata": {},
   "source": [
    "The difference between the raw CNN and the gaussian CNN is particularly noticable in the more \"unclear\" images"
   ]
  },
  {
   "cell_type": "code",
   "execution_count": 32,
   "metadata": {
    "scrolled": true
   },
   "outputs": [
    {
     "data": {
      "image/png": "[encoded data removed]",
      "text/plain": [
       "<matplotlib.figure.Figure at 0x7f7dc68aea20>"
      ]
     },
     "metadata": {},
     "output_type": "display_data"
    }
   ],
   "source": [
    "worst_results = np.argsort(np.max(class_prob_raw, axis=1))[:100]\n",
    "random_digit = random.choice(worst_results)\n",
    "print_digit(x_test[random_digit], class_prob_raw[random_digit], class_prob_dist[:, random_digit])"
   ]
  },
  {
   "cell_type": "markdown",
   "metadata": {},
   "source": [
    "## N-MNIST"
   ]
  },
  {
   "cell_type": "markdown",
   "metadata": {},
   "source": [
    "The Neuromorphic-MNIST (N-MNIST) dataset is a spiking version of the original frame-based MNIST dataset. We will now see what role uncernanty plays when the test set is very noisy compared to the training set"
   ]
  },
  {
   "cell_type": "code",
   "execution_count": 23,
   "metadata": {},
   "outputs": [
    {
     "name": "stdout",
     "output_type": "stream",
     "text": [
      "10000 test samples\n",
      "CNN accuracy 0.7254\n",
      "ProbabilisticCNN accuracy 0.6577\n"
     ]
    }
   ],
   "source": [
    "# the data, shuffled and split between train and test sets\n",
    "_, (x_test, y_test_m) = nmnist.load_data()\n",
    "\n",
    "if K.image_data_format() == 'channels_first':\n",
    "    x_test = x_test.reshape(x_test.shape[0], 1, img_rows, img_cols)\n",
    "else:\n",
    "    x_test = x_test.reshape(x_test.shape[0], img_rows, img_cols, 1)\n",
    "    \n",
    "x_test = x_test.astype('float32')\n",
    "x_test /= 255\n",
    "\n",
    "print(x_test.shape[0], 'test samples')\n",
    "\n",
    "y_test =  np.argmax(y_test_m, axis=1)\n",
    "\n",
    "class_prob_median, class_prob_std = model.predict(x_test)\n",
    "class_prob_raw = model.predict(x_test, raw_predict=True)\n",
    "\n",
    "y_predict_unc = np.argmax(class_prob_median, axis=1)\n",
    "y_predict_raw = np.argmax(class_prob_raw, axis=1)\n",
    "\n",
    "score_raw = accuracy_score(y_test, y_predict_raw)\n",
    "score_gaussian = accuracy_score(y_test, y_predict_unc)\n",
    "\n",
    "print('CNN accuracy', score_raw)\n",
    "print('ProbabilisticCNN accuracy', score_gaussian)"
   ]
  }
 ],
 "metadata": {
  "kernelspec": {
   "display_name": "Python 3",
   "language": "python",
   "name": "python3"
  },
  "language_info": {
   "codemirror_mode": {
    "name": "ipython",
    "version": 3
   },
   "file_extension": ".py",
   "mimetype": "text/x-python",
   "name": "python",
   "nbconvert_exporter": "python",
   "pygments_lexer": "ipython3",
   "version": "3.6.3"
  }
 },
 "nbformat": 4,
 "nbformat_minor": 2
}
